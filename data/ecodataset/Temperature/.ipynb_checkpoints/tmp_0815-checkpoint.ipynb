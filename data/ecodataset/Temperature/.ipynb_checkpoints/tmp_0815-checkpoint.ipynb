{
 "cells": [
  {
   "cell_type": "code",
   "execution_count": 32,
   "metadata": {},
   "outputs": [
    {
     "name": "stdout",
     "output_type": "stream",
     "text": [
      "Requirement already satisfied: selenium in /home/higuchi-lab/anaconda3/lib/python3.8/site-packages (3.141.0)\n",
      "Requirement already satisfied: urllib3 in /home/higuchi-lab/anaconda3/lib/python3.8/site-packages (from selenium) (1.26.4)\n",
      "Requirement already satisfied: beautifulsoup4 in /home/higuchi-lab/anaconda3/lib/python3.8/site-packages (4.9.3)\n",
      "Requirement already satisfied: soupsieve>1.2 in /home/higuchi-lab/anaconda3/lib/python3.8/site-packages (from beautifulsoup4) (2.2.1)\n",
      "Requirement already satisfied: chromedriver-binary==91.0.4472.19.0 in /home/higuchi-lab/anaconda3/lib/python3.8/site-packages (91.0.4472.19.0)\n"
     ]
    }
   ],
   "source": [
    "!pip --proxy=\"\" install selenium\n",
    "!pip --proxy=\"\" install beautifulsoup4\n",
    "!pip install chromedriver-binary==91.0.4472.19.0"
   ]
  },
  {
   "cell_type": "markdown",
   "metadata": {},
   "source": [
    "# **オブジェクトのimport**"
   ]
  },
  {
   "cell_type": "code",
   "execution_count": 50,
   "metadata": {},
   "outputs": [],
   "source": [
    "import matplotlib.pyplot as plt\n",
    "from selenium import webdriver\n",
    "import time\n",
    "import pandas as pd\n",
    "import requests\n",
    "from bs4 import BeautifulSoup\n",
    "from selenium.webdriver.support.select import Select\n",
    "import numpy as np"
   ]
  },
  {
   "cell_type": "markdown",
   "metadata": {},
   "source": [
    "# **処理**"
   ]
  },
  {
   "cell_type": "code",
   "execution_count": 34,
   "metadata": {},
   "outputs": [],
   "source": [
    "# Chromeを起動\n",
    "path = \"../../../../../../../anaconda3/lib/python3.8/site-packages/chromedriver_binary/chromedriver\"\n",
    "browser = webdriver.Chrome(executable_path=path)"
   ]
  },
  {
   "cell_type": "code",
   "execution_count": 35,
   "metadata": {},
   "outputs": [],
   "source": [
    "# Chrome上でwebページ（URL）にアクセス\n",
    "url = \"https://www.data.jma.go.jp/obd/stats/etrn/view/annually_s.php?prec_no=44&block_no=47662&year=&month=&day=&view=\"\n",
    "browser.get(url)"
   ]
  },
  {
   "cell_type": "code",
   "execution_count": 56,
   "metadata": {},
   "outputs": [
    {
     "name": "stdout",
     "output_type": "stream",
     "text": [
      "over\n",
      "over\n",
      "over\n",
      "over\n",
      "over\n",
      "over\n",
      "over\n",
      "over\n",
      "over\n",
      "over\n",
      "over\n",
      "over\n",
      "over\n",
      "over\n",
      "over\n",
      "over\n",
      "over\n",
      "over\n",
      "over\n",
      "over\n",
      "over\n",
      "over\n",
      "over\n",
      "over\n",
      "over\n",
      "over\n",
      "over\n",
      "over\n",
      "over\n",
      "over\n",
      "over\n",
      "over\n",
      "over\n",
      "over\n",
      "over\n",
      "over\n",
      "over\n",
      "over\n",
      "over\n",
      "over\n",
      "over\n",
      "over\n",
      "over\n",
      "over\n",
      "over\n",
      "over\n",
      "over\n",
      "over\n",
      "over\n",
      "over\n"
     ]
    }
   ],
   "source": [
    "list_1=[]\n",
    "for i in range(4,200,1):\n",
    "    try:\n",
    "        where = \"/html/body/div[2]/div/div[2]/table/tbody/tr[\"+str(i)+\"]/td[8]\"\n",
    "        t = browser.find_element_by_xpath(where)\n",
    "        if i==4:\n",
    "            list_1.append(17)\n",
    "        elif i==146:\n",
    "            list_1.append(15.7)\n",
    "        else:\n",
    "            list_1.append(float(t.text))\n",
    "    except:\n",
    "        print('over')"
   ]
  },
  {
   "cell_type": "code",
   "execution_count": 51,
   "metadata": {},
   "outputs": [],
   "source": [
    "np.savetxt(\"tokyo_temp_1875-2021.csv\", list_1, delimiter=\",\")"
   ]
  },
  {
   "cell_type": "code",
   "execution_count": 57,
   "metadata": {},
   "outputs": [
    {
     "data": {
      "text/plain": [
       "146"
      ]
     },
     "execution_count": 57,
     "metadata": {},
     "output_type": "execute_result"
    }
   ],
   "source": [
    "len(list_1)"
   ]
  },
  {
   "cell_type": "code",
   "execution_count": 58,
   "metadata": {},
   "outputs": [
    {
     "data": {
      "text/plain": [
       "[17,\n",
       " 13.6,\n",
       " 14.2,\n",
       " 13.8,\n",
       " 14.6,\n",
       " 14.1,\n",
       " 13.8,\n",
       " 14.0,\n",
       " 13.3,\n",
       " 12.9,\n",
       " 13.1,\n",
       " 13.9,\n",
       " 13.8,\n",
       " 13.5,\n",
       " 13.3,\n",
       " 15.0,\n",
       " 14.4,\n",
       " 14.0,\n",
       " 13.8,\n",
       " 14.8,\n",
       " 13.8,\n",
       " 14.0,\n",
       " 13.2,\n",
       " 14.0,\n",
       " 13.8,\n",
       " 13.6,\n",
       " 13.9,\n",
       " 13.7,\n",
       " 13.7,\n",
       " 13.7,\n",
       " 13.5,\n",
       " 13.1,\n",
       " 13.5,\n",
       " 13.2,\n",
       " 13.6,\n",
       " 13.5,\n",
       " 14.4,\n",
       " 13.9,\n",
       " 13.4,\n",
       " 14.7,\n",
       " 14.2,\n",
       " 14.5,\n",
       " 13.6,\n",
       " 13.8,\n",
       " 14.1,\n",
       " 14.2,\n",
       " 13.6,\n",
       " 14.4,\n",
       " 14.2,\n",
       " 14.0,\n",
       " 13.8,\n",
       " 13.6,\n",
       " 14.1,\n",
       " 14.1,\n",
       " 14.3,\n",
       " 14.8,\n",
       " 14.0,\n",
       " 14.6,\n",
       " 14.7,\n",
       " 13.9,\n",
       " 14.1,\n",
       " 14.1,\n",
       " 14.9,\n",
       " 14.5,\n",
       " 14.7,\n",
       " 14.8,\n",
       " 14.6,\n",
       " 15.0,\n",
       " 14.6,\n",
       " 14.2,\n",
       " 13.6,\n",
       " 14.9,\n",
       " 14.1,\n",
       " 15.2,\n",
       " 14.6,\n",
       " 15.1,\n",
       " 14.7,\n",
       " 14.6,\n",
       " 14.6,\n",
       " 14.8,\n",
       " 15.5,\n",
       " 14.7,\n",
       " 14.9,\n",
       " 15.2,\n",
       " 15.7,\n",
       " 15.4,\n",
       " 15.9,\n",
       " 15.4,\n",
       " 15.0,\n",
       " 15.3,\n",
       " 14.6,\n",
       " 15.5,\n",
       " 15.7,\n",
       " 15.6,\n",
       " 15.6,\n",
       " 15.2,\n",
       " 15.0,\n",
       " 15.7,\n",
       " 15.7,\n",
       " 15.2,\n",
       " 15.6,\n",
       " 15.0,\n",
       " 15.8,\n",
       " 16.1,\n",
       " 16.9,\n",
       " 15.4,\n",
       " 15.0,\n",
       " 16.0,\n",
       " 15.7,\n",
       " 14.9,\n",
       " 15.7,\n",
       " 15.2,\n",
       " 16.3,\n",
       " 15.4,\n",
       " 16.4,\n",
       " 17.0,\n",
       " 16.4,\n",
       " 16.0,\n",
       " 15.5,\n",
       " 16.9,\n",
       " 16.3,\n",
       " 15.8,\n",
       " 16.7,\n",
       " 16.7,\n",
       " 17.0,\n",
       " 16.9,\n",
       " 16.5,\n",
       " 16.7,\n",
       " 16.0,\n",
       " 17.3,\n",
       " 16.2,\n",
       " 16.4,\n",
       " 17.0,\n",
       " 16.4,\n",
       " 16.7,\n",
       " 16.9,\n",
       " 16.5,\n",
       " 16.3,\n",
       " 17.1,\n",
       " 16.6,\n",
       " 16.4,\n",
       " 16.4,\n",
       " 15.8,\n",
       " 16.8,\n",
       " 16.5,\n",
       " 16.5]"
      ]
     },
     "execution_count": 58,
     "metadata": {},
     "output_type": "execute_result"
    }
   ],
   "source": [
    "list_1"
   ]
  },
  {
   "cell_type": "code",
   "execution_count": 48,
   "metadata": {},
   "outputs": [
    {
     "data": {
      "text/plain": [
       "[<matplotlib.lines.Line2D at 0x7f8fa9916af0>]"
      ]
     },
     "execution_count": 48,
     "metadata": {},
     "output_type": "execute_result"
    },
    {
     "data": {
      "image/png": "[encoded data removed]",
      "text/plain": [
       "<Figure size 432x288 with 1 Axes>"
      ]
     },
     "metadata": {
      "needs_background": "light"
     },
     "output_type": "display_data"
    }
   ],
   "source": [
    "plt.plot(list_1)"
   ]
  },
  {
   "cell_type": "code",
   "execution_count": null,
   "metadata": {},
   "outputs": [],
   "source": []
  }
 ],
 "metadata": {
  "kernelspec": {
   "display_name": "Python 3",
   "language": "python",
   "name": "python3"
  },
  "language_info": {
   "codemirror_mode": {
    "name": "ipython",
    "version": 3
   },
   "file_extension": ".py",
   "mimetype": "text/x-python",
   "name": "python",
   "nbconvert_exporter": "python",
   "pygments_lexer": "ipython3",
   "version": "3.8.8"
  }
 },
 "nbformat": 4,
 "nbformat_minor": 4
}
