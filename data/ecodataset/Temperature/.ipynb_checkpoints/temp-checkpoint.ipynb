{
 "cells": [
  {
   "cell_type": "code",
   "execution_count": 1,
   "metadata": {},
   "outputs": [],
   "source": [
    "from selenium import webdriver\n",
    "from webdriver_manager.chrome import ChromeDriverManager \n",
    "import time\n",
    "import pandas as pd\n",
    "import requests\n",
    "from bs4 import BeautifulSoup\n",
    "from selenium.webdriver.support.select import Select\n",
    "import calendar"
   ]
  },
  {
   "cell_type": "code",
   "execution_count": 2,
   "metadata": {},
   "outputs": [],
   "source": [
    "def get_2012_table():\n",
    "    dropdown = browser.find_element_by_name('year')\n",
    "    select = Select(dropdown)\n",
    "    idx_2012 = 10\n",
    "    select.select_by_index(idx_2012) "
   ]
  },
  {
   "cell_type": "code",
   "execution_count": 3,
   "metadata": {},
   "outputs": [],
   "source": [
    "def get_target_month_table(month):\n",
    "    dropdown = browser.find_element_by_name('month')\n",
    "    select = Select(dropdown)\n",
    "    idx_month = month - 1\n",
    "    select.select_by_index(idx_month)\n",
    "    inputbox = browser.find_element_by_xpath('/html/body/div[3]/div[2]/table/tbody/tr/td[2]/table/tbody/tr[1]/td[2]/input')\n",
    "    inputbox.click()  "
   ]
  },
  {
   "cell_type": "code",
   "execution_count": 4,
   "metadata": {},
   "outputs": [],
   "source": [
    "def move_next_day(day):\n",
    "    dropdown = browser.find_element_by_name('day')\n",
    "    select = Select(dropdown)\n",
    "    select.select_by_index(day)\n",
    "    inputbox = browser.find_element_by_xpath('/html/body/div[3]/div[2]/table/tbody/tr/td[2]/table/tbody/tr[1]/td[2]/input')\n",
    "    inputbox.click()"
   ]
  },
  {
   "cell_type": "code",
   "execution_count": 5,
   "metadata": {},
   "outputs": [],
   "source": [
    "def get_temperature_1day(UTC, num_times):\n",
    "    dic={}\n",
    "    for i in UTC:\n",
    "        for time in range(num_times):\n",
    "            try:\n",
    "                td = browser.find_element_by_xpath(f'/html/body/div[3]/div[2]/table/tbody/tr/td[4]/table[3]/tbody/tr[{str(time)}]/td[3]')\n",
    "                utc = browser.find_element_by_xpath(f'/html/body/div[3]/div[2]/table/tbody/tr/td[4]/table[3]/tbody/tr[{str(time)}]/td[1]')\n",
    "                \n",
    "                if i == str(utc.text):\n",
    "                    dic[i] = int(td.text)\n",
    "                    break\n",
    "\n",
    "            except: \n",
    "                dic[i] = None\n",
    "\n",
    "    return pd.DataFrame(dic, index=[1]).T"
   ]
  },
  {
   "cell_type": "code",
   "execution_count": 6,
   "metadata": {},
   "outputs": [],
   "source": [
    "def interpolate_missing(df):\n",
    "    list_1=[]\n",
    "    for i,vals in df.iteritems():\n",
    "        for val in vals:\n",
    "            list_1.append(val)\n",
    "    df2 = pd.DataFrame(list_1)\n",
    "    df2 = df2.interpolate(limit=None, limit_direction='both')\n",
    "    df2 = df2.values.reshape(df.T.shape)\n",
    "    df2 = pd.DataFrame(df2).T\n",
    "    df2.index += 1\n",
    "    return df2"
   ]
  },
  {
   "cell_type": "code",
   "execution_count": 7,
   "metadata": {},
   "outputs": [],
   "source": [
    "def arrange_temps_by_day(temps_1month, month):    \n",
    "    num_days = calendar.monthrange(2012, month)[1]\n",
    "    separator = 46 if month in [1, 2, 11, 12] else 44\n",
    "    \n",
    "    temps_1month_nextday = temps_1month[separator:]\n",
    "    temps_1month_nextday = temps_1month_nextday.drop(columns=num_days)\n",
    "\n",
    "    temps_1month_nextday[\"0\"] = None\n",
    "\n",
    "    temps_1month_nextday = temps_1month_nextday.reindex(columns=[i for i in range(num_days)])\n",
    "    temps_1month_nextday.columns = temps_1month_nextday.columns + 1\n",
    "\n",
    "    temps_1month = pd.concat([temps_1month_nextday, temps_1month], axis=0)\n",
    "    temps_1month = temps_1month[:48]\n",
    "    \n",
    "    return temps_1month"
   ]
  },
  {
   "cell_type": "code",
   "execution_count": 8,
   "metadata": {},
   "outputs": [],
   "source": [
    "def get_temperature_1month(month):\n",
    "    num_days = calendar.monthrange(2012, month)[1]\n",
    "    num_times = 50\n",
    "    UTC_11_2 = [\"01:20\",\"01:50\",\"02:20\",\"02:50\",\"03:20\",\"03:50\",\n",
    "                \"04:20\",\"04:50\",\"05:20\",\"05:50\",\"06:20\",\"06:50\",\n",
    "                \"07:20\",\"07:50\",\"08:20\",\"08:50\",\"09:20\",\"09:50\",\n",
    "                \"10:20\",\"10:50\",\"11:20\",\"11:50\",\"12:20\",\"12:50\",\n",
    "                \"13:20\",\"13:50\",\"14:20\",\"14:50\",\"15:20\",\"15:50\",\n",
    "                \"16:20\",\"16:50\",\"17:20\",\"17:50\",\"18:20\",\"18:50\",\n",
    "                \"19:20\",\"19:50\",\"20:20\",\"20:50\",\"21:20\",\"21:50\",\n",
    "                \"22:20\",\"22:50\",\"23:20\",\"23:50\",\"00:20\",\"00:50\"]\n",
    "    \n",
    "    UTC_5_10 = [\"02:20\",\"02:50\",\"03:20\",\"03:50\",\"04:20\",\"04:50\",\n",
    "                \"05:20\",\"05:50\",\"06:20\",\"06:50\",\"07:20\",\"07:50\",\n",
    "                \"08:20\",\"08:50\",\"09:20\",\"09:50\",\"10:20\",\"10:50\",\n",
    "                \"11:20\",\"11:50\",\"12:20\",\"12:50\",\"13:20\",\"13:50\",\n",
    "                \"14:20\",\"14:50\",\"15:20\",\"15:50\",\"16:20\",\"16:50\",\n",
    "                \"17:20\",\"17:50\",\"18:20\",\"18:50\",\"19:20\",\"19:50\",\n",
    "                \"20:20\",\"20:50\",\"21:20\",\"21:50\",\"22:20\",\"22:50\",\n",
    "                \"23:20\",\"23:50\",\"00:20\",\"00:50\",\"01:20\",\"01:50\"]\n",
    "    \n",
    "    UTC = UTC_11_2 if month in [1, 2, 11, 12] else UTC_5_10\n",
    "\n",
    "    temps_1month = {}\n",
    "    for day in range(num_days):\n",
    "        # 1日進める\n",
    "        move_next_day(day)\n",
    "\n",
    "        # 時間毎に気温を取得する\n",
    "        temp_1day = get_temperature_1day(UTC, num_times)\n",
    "\n",
    "        # 日にち毎に気温をdictに保存する\n",
    "        temps_1month[day+1] = temp_1day.values.reshape(48,)\n",
    "        \n",
    "        \n",
    "    return pd.DataFrame(temps_1month)"
   ]
  },
  {
   "cell_type": "code",
   "execution_count": null,
   "metadata": {},
   "outputs": [],
   "source": []
  },
  {
   "cell_type": "code",
   "execution_count": null,
   "metadata": {},
   "outputs": [],
   "source": []
  },
  {
   "cell_type": "code",
   "execution_count": null,
   "metadata": {},
   "outputs": [],
   "source": []
  },
  {
   "cell_type": "code",
   "execution_count": 9,
   "metadata": {},
   "outputs": [],
   "source": [
    "path = \"/home/higuchi-lab/.wdm/drivers/chromedriver/linux64/98.0.4758.102/chromedriver\"\n",
    "url = \"http://www.eurometeo.com/english/condition/city_LSZH/archive_select/meteo_Zurich\"\n",
    "\n",
    "browser = webdriver.Chrome(executable_path=path)\n",
    "browser.get(url)"
   ]
  },
  {
   "cell_type": "code",
   "execution_count": 10,
   "metadata": {},
   "outputs": [],
   "source": [
    "get_2012_table()\n",
    "get_target_month_table(month=1)\n",
    "\n",
    "temps_1month = get_temperature_1month(month=1)\n",
    "temps_1month = arrange_temps_by_day(temps_1month, month=1)\n",
    "temps_1month = interpolate_missing(temps_1month)\n",
    "\n",
    "temps_1month.to_csv(\"temp1.csv\")"
   ]
  }
 ],
 "metadata": {
  "kernelspec": {
   "display_name": "Python 3 (ipykernel)",
   "language": "python",
   "name": "python3"
  },
  "language_info": {
   "codemirror_mode": {
    "name": "ipython",
    "version": 3
   },
   "file_extension": ".py",
   "mimetype": "text/x-python",
   "name": "python",
   "nbconvert_exporter": "python",
   "pygments_lexer": "ipython3",
   "version": "3.8.8"
  }
 },
 "nbformat": 4,
 "nbformat_minor": 4
}
