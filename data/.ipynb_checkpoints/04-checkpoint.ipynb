{
 "cells": [
  {
   "cell_type": "markdown",
   "metadata": {},
   "source": [
    "# **Import Object**"
   ]
  },
  {
   "cell_type": "code",
   "execution_count": 10,
   "metadata": {},
   "outputs": [],
   "source": [
    "from datetime import datetime as dt\n",
    "import datetime\n",
    "\n",
    "import matplotlib.pyplot as plt\n",
    "import numpy as np\n",
    "import pandas as pd\n",
    "\n",
    "import get_x_y"
   ]
  },
  {
   "cell_type": "markdown",
   "metadata": {},
   "source": [
    "# **Load Energy**"
   ]
  },
  {
   "cell_type": "code",
   "execution_count": 11,
   "metadata": {},
   "outputs": [],
   "source": [
    "energy_7_9_60m = get_x_y.get_target_energy(house_id=4,\n",
    "                                           target_months=[7, 8, 9],\n",
    "                                           intervals=3600)\n",
    "energy_11_1_60m = get_x_y.get_target_energy(4, [11, 12, 1], 3600)\n",
    "\n",
    "energy_7_9_30m = get_x_y.get_target_energy(4, [7, 8, 9], 1800)\n",
    "energy_11_1_30m = get_x_y.get_target_energy(4, [11, 12, 1], 1800)"
   ]
  },
  {
   "cell_type": "markdown",
   "metadata": {},
   "source": [
    "# **Load Occupancy**"
   ]
  },
  {
   "cell_type": "code",
   "execution_count": 12,
   "metadata": {},
   "outputs": [],
   "source": [
    "occupancy_sum = pd.read_csv('./ecodataset/Occupancy/04_summer.csv')\n",
    "occupancy_sum = occupancy_sum.set_index('Unnamed: 0')\n",
    "\n",
    "occupancy_win = pd.read_csv('./ecodataset/Occupancy/04_winter.csv')\n",
    "occupancy_win = occupancy_win.set_index('Unnamed: 0')"
   ]
  },
  {
   "cell_type": "code",
   "execution_count": 13,
   "metadata": {},
   "outputs": [],
   "source": [
    "occupancy_sum = get_x_y.to_intervals_occupancy(occupancies=occupancy_sum,\n",
    "                                               intervals=3600)\n",
    "occupancy_win = get_x_y.to_intervals_occupancy(occupancy_win, 3600)"
   ]
  },
  {
   "cell_type": "markdown",
   "metadata": {},
   "source": [
    "# **Create Ratio**"
   ]
  },
  {
   "cell_type": "code",
   "execution_count": 14,
   "metadata": {},
   "outputs": [],
   "source": [
    "ratio_sum = get_x_y.build_ratio(date_columns=occupancy_sum.columns,\n",
    "                                energies=energy_7_9_60m)\n",
    "ratio_win = get_x_y.build_ratio(occupancy_win.columns, energy_11_1_60m)"
   ]
  },
  {
   "cell_type": "markdown",
   "metadata": {},
   "source": [
    "# **Create Features**"
   ]
  },
  {
   "cell_type": "code",
   "execution_count": 15,
   "metadata": {},
   "outputs": [],
   "source": [
    "energy_sum = get_x_y.get_corresponding_energy(\n",
    "    occupancy_columns=occupancy_sum.columns,\n",
    "    energies=energy_7_9_30m)\n",
    "ratio_sum = ratio_sum.values.T.reshape(-1)\n",
    "\n",
    "means, maxs, mins, stds, ranges = get_x_y.create_features(energy=energy_sum)\n",
    "times = [t for t in range(0, 24, 1)] * len(occupancy_sum.columns)\n",
    "seasons = [1 for i in range(len(ratio_sum))]\n",
    "is_sundays = get_x_y.get_issunday(target_days=occupancy_sum.columns)\n",
    "\n",
    "features_sum = pd.DataFrame({\n",
    "    \"Ratio\": ratio_sum, \"Mean\": means, \"Max\": maxs,\n",
    "    \"Min\": mins, \"Std\": stds, \"Range\": ranges,\n",
    "    \"Time\": times, \"Season\": seasons, \"Sunday\": is_sundays\n",
    "    })\n",
    "features_sum[\"Lag-1_Ratio\"] = np.append(0.5, features_sum[\"Ratio\"].values[:-1])\n",
    "features_sum[\"Lag+1_Ratio\"] = np.append(features_sum[\"Ratio\"].values[1:], 0.5)\n",
    "\n",
    "features_sum = features_sum[(features_sum.Time > 5) & (features_sum.Time < 22)]\n",
    "am_pm = get_x_y.get_am_pm(times=features_sum[\"Time\"])\n",
    "features_sum = features_sum.drop(columns=\"Time\")\n",
    "features_sum = features_sum.reset_index(drop=True)\n",
    "features_sum = pd.concat([features_sum, am_pm], axis=1)\n",
    "features_sum = features_sum.rename({0: \"Am\", 1: \"Lunch\", 2: \"Pm\"}, axis=1)\n",
    "\n",
    "features_sum = features_sum.reindex([\n",
    "    'Ratio', 'Mean', 'Max', 'Min',\n",
    "    'Std', 'Range', 'Lag-1_Ratio', 'Lag+1_Ratio',\n",
    "    'Season', 'Sunday', 'Am', 'Lunch', 'Pm'\n",
    "    ], axis=1)\n",
    "\n",
    "# fatures_sum.to_csv(\"4_Sum_X_train.csv\", index=False)\n",
    "occupancy_sum = occupancy_sum[6:22].values.T.reshape(-1)\n",
    "occupancy_sum = pd.DataFrame(occupancy_sum, columns=[\"Occupancy\"])\n",
    "# occupancy_sum.to_csv(\"4_Sum_Y_train.csv\", index=False)"
   ]
  },
  {
   "cell_type": "code",
   "execution_count": 16,
   "metadata": {
    "tags": []
   },
   "outputs": [],
   "source": [
    "energy_win = get_x_y.get_corresponding_energy(occupancy_win.columns,\n",
    "                                              energy_11_1_30m)\n",
    "ratio_win = ratio_win.values.T.reshape(-1)\n",
    "\n",
    "means, maxs, mins, stds, ranges = get_x_y.create_features(energy_win)\n",
    "times = [t for t in range(0, 24, 1)] * len(occupancy_win.columns)\n",
    "seasons = [0 for i in range(len(ratio_win))]\n",
    "is_sundays = get_x_y.get_issunday(occupancy_win.columns)\n",
    "\n",
    "features_win = pd.DataFrame({\n",
    "    \"Ratio\": ratio_win, \"Mean\": means, \"Max\": maxs,\n",
    "    \"Min\": mins, \"Std\": stds, \"Range\": ranges,\n",
    "    \"Time\": times, \"Season\": seasons, \"Sunday\": is_sundays\n",
    "    })\n",
    "features_win[\"Lag-1_Ratio\"] = np.append(0.5, features_win[\"Ratio\"].values[:-1])\n",
    "features_win[\"Lag+1_Ratio\"] = np.append(features_win[\"Ratio\"].values[1:], 0.5)\n",
    "\n",
    "features_win = features_win[(features_win.Time > 5) & (features_win.Time < 22)]\n",
    "am_pm = get_x_y.get_am_pm(features_win[\"Time\"])\n",
    "features_win = features_win.drop(columns=\"Time\")\n",
    "features_win = features_win.reset_index(drop=True)\n",
    "features_win = pd.concat([features_win, am_pm], axis=1)\n",
    "features_win = features_win.rename({0: \"Am\", 1: \"Lunch\", 2: \"Pm\"}, axis=1)\n",
    "\n",
    "features_win = features_win.reindex([\n",
    "    'Ratio', 'Mean', 'Max', 'Min',\n",
    "    'Std', 'Range', 'Lag-1_Ratio', 'Lag+1_Ratio',\n",
    "    'Season', 'Sunday', 'Am', 'Lunch', 'Pm'\n",
    "    ], axis=1)\n",
    "\n",
    "# features_win.to_csv(\"4_Win_X_train.csv\", index=False)\n",
    "occupancy_win = occupancy_win[6:22].values.T.reshape(-1)\n",
    "occupancy_win = pd.DataFrame(occupancy_win, columns=[\"Occupancy\"])\n",
    "# occupancy_win.to_csv(\"4_Win_Y_train.csv\", index=False)"
   ]
  },
  {
   "cell_type": "code",
   "execution_count": 17,
   "metadata": {},
   "outputs": [],
   "source": [
    "X = pd.concat([features_sum, features_win], axis=0)\n",
    "Y = pd.concat([occupancy_sum, occupancy_win], axis=0)\n",
    "X.to_csv(\"4_X_train.csv\", index=False)\n",
    "Y.to_csv(\"4_Y_train.csv\", index=False)"
   ]
  }
 ],
 "metadata": {
  "kernelspec": {
   "display_name": "Python 3 (ipykernel)",
   "language": "python",
   "name": "python3"
  },
  "language_info": {
   "codemirror_mode": {
    "name": "ipython",
    "version": 3
   },
   "file_extension": ".py",
   "mimetype": "text/x-python",
   "name": "python",
   "nbconvert_exporter": "python",
   "pygments_lexer": "ipython3",
   "version": "3.8.8"
  }
 },
 "nbformat": 4,
 "nbformat_minor": 4
}
