{
 "cells": [
  {
   "cell_type": "markdown",
   "id": "c7eb3670-671e-4709-bc95-bc6301474bda",
   "metadata": {},
   "source": [
    "# Import Object"
   ]
  },
  {
   "cell_type": "code",
   "execution_count": 94,
   "id": "d0bf2fa1-eeaf-425c-b843-0b25bd96dc9e",
   "metadata": {},
   "outputs": [],
   "source": [
    "import numpy as np\n",
    "import pandas as pd\n",
    "from sklearn.ensemble import RandomForestClassifier\n",
    "from sklearn.model_selection import train_test_split, KFold\n",
    "from sklearn.metrics import classification_report\n",
    "from sklearn.preprocessing import StandardScaler\n",
    "from sklearn.pipeline import make_pipeline\n",
    "from sklearn.svm import SVC"
   ]
  },
  {
   "cell_type": "markdown",
   "id": "75cec094-bde7-4ba4-a6e1-e6be278aea5c",
   "metadata": {},
   "source": [
    "# Prepare Data"
   ]
  },
  {
   "cell_type": "code",
   "execution_count": 111,
   "id": "47d6f9c0-696e-421b-8d95-fe3d496de8cf",
   "metadata": {},
   "outputs": [],
   "source": [
    "x = pd.read_csv(\"./data/1_X_train.csv\").values\n",
    "y = pd.read_csv(\"./data/1_Y_train.csv\").values.reshape(-1)\n",
    "\n",
    "sequence_length = 16\n",
    "num_days = int(x.shape[0] / sequence_length)\n",
    "feature_size = x.shape[1]\n",
    "\n",
    "x = x.reshape(num_days, sequence_length, feature_size)\n",
    "y = y.reshape(num_days, sequence_length, 1)"
   ]
  },
  {
   "cell_type": "markdown",
   "id": "0c0b59df-be09-45e1-8483-6416194613e4",
   "metadata": {},
   "source": [
    "# Set Free Parameters"
   ]
  },
  {
   "cell_type": "code",
   "execution_count": 112,
   "id": "602070e9-c806-4244-af92-2f7e055af31e",
   "metadata": {},
   "outputs": [],
   "source": [
    "max_depth = 10\n",
    "n_estimators = 50\n",
    "min_samples_split = 5"
   ]
  },
  {
   "cell_type": "markdown",
   "id": "6ed01196-81be-42a8-9bc7-3c64f3199762",
   "metadata": {},
   "source": [
    "# Instantiate Model"
   ]
  },
  {
   "cell_type": "code",
   "execution_count": 113,
   "id": "ba9f539d-32e5-43f4-bcad-c04782facca7",
   "metadata": {},
   "outputs": [],
   "source": [
    "rf = RandomForestClassifier(max_depth=max_depth, n_estimators=n_estimators,\n",
    "                            min_samples_split=min_samples_split)"
   ]
  },
  {
   "cell_type": "markdown",
   "id": "cb0fab1a-1768-49e2-be45-6e5abfa62296",
   "metadata": {},
   "source": [
    "# Training"
   ]
  },
  {
   "cell_type": "code",
   "execution_count": 114,
   "id": "f5d95640-7ae0-4ee7-9728-e8df064c2658",
   "metadata": {},
   "outputs": [
    {
     "name": "stdout",
     "output_type": "stream",
     "text": [
      "-ratio:0.7947222222222222(0.003592701470763279)\n",
      "+ratio:0.8334635416666668(0.0027152938733893475)\n"
     ]
    }
   ],
   "source": [
    "num_splits = 10\n",
    "num_repeats = 10\n",
    "\n",
    "ratio_accs = []\n",
    "accs = []\n",
    "\n",
    "for repeat in range(num_repeats):\n",
    "    kf = KFold(n_splits=num_splits, random_state=repeat, shuffle=True)\n",
    "    running_acc = 0\n",
    "    ratio_running_acc = 0\n",
    "\n",
    "    for train_idx, test_idx in kf.split(x):\n",
    "        # split data into train, test\n",
    "        train_x, test_x = x[train_idx], x[test_idx]\n",
    "        train_y, test_y = y[train_idx], y[test_idx]\n",
    "        train_x = train_x.reshape(-1, train_x.shape[2])\n",
    "        train_y = train_y.reshape(-1)\n",
    "        test_x = test_x.reshape(-1, test_x.shape[2])\n",
    "        test_y = test_y.reshape(-1)\n",
    "        \n",
    "        # training and test\n",
    "        \n",
    "        # -ratio\n",
    "        rf.fit(train_x[:,[1,2,3,4,5,6,9,10,11,12,13]], train_y)\n",
    "        pred_y = rf.predict(test_x[:,[1,2,3,4,5,6,9,10,11,12,13]])\n",
    "        running_acc += sum(pred_y == test_y) / int(test_y.shape[0])\n",
    "        \n",
    "        # +ratio\n",
    "        rf.fit(train_x, train_y)\n",
    "        pred_y = rf.predict(test_x)\n",
    "        ratio_running_acc += sum(pred_y == test_y) / int(test_y.shape[0])\n",
    "\n",
    "    mean_acc = running_acc/num_splits \n",
    "    accs.append(mean_acc)\n",
    "    \n",
    "    ratio_mean_acc = ratio_running_acc/num_splits\n",
    "    ratio_accs.append(ratio_mean_acc)\n",
    "                   \n",
    "print(f\"-ratio:{np.mean(accs)}({np.std(accs)})\")\n",
    "print(f\"+ratio:{np.mean(ratio_accs)}({np.std(ratio_accs)})\")"
   ]
  }
 ],
 "metadata": {
  "kernelspec": {
   "display_name": "Python 3 (ipykernel)",
   "language": "python",
   "name": "python3"
  },
  "language_info": {
   "codemirror_mode": {
    "name": "ipython",
    "version": 3
   },
   "file_extension": ".py",
   "mimetype": "text/x-python",
   "name": "python",
   "nbconvert_exporter": "python",
   "pygments_lexer": "ipython3",
   "version": "3.8.8"
  }
 },
 "nbformat": 4,
 "nbformat_minor": 5
}
