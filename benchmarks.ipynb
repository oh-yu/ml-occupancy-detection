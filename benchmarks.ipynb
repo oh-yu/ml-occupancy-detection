{
 "cells": [
  {
   "cell_type": "markdown",
   "id": "c7eb3670-671e-4709-bc95-bc6301474bda",
   "metadata": {},
   "source": [
    "# Import Object"
   ]
  },
  {
   "cell_type": "code",
   "execution_count": 1,
   "id": "d0bf2fa1-eeaf-425c-b843-0b25bd96dc9e",
   "metadata": {},
   "outputs": [],
   "source": [
    "import pandas as pd\n",
    "from sklearn.ensemble import RandomForestClassifier\n",
    "from sklearn.model_selection import train_test_split\n",
    "from sklearn.metrics import classification_report\n",
    "from sklearn.preprocessing import StandardScaler\n",
    "from sklearn.pipeline import make_pipeline\n",
    "from sklearn.svm import SVC"
   ]
  },
  {
   "cell_type": "markdown",
   "id": "75cec094-bde7-4ba4-a6e1-e6be278aea5c",
   "metadata": {},
   "source": [
    "# Prepare Data"
   ]
  },
  {
   "cell_type": "code",
   "execution_count": 2,
   "id": "1ececdbd-d3ae-4162-be3b-cc31419c354e",
   "metadata": {},
   "outputs": [],
   "source": [
    "train_x = pd.read_csv(\"./data/2_X_train.csv\").values\n",
    "train_y = pd.read_csv(\"./data/2_Y_train.csv\").values.reshape(-1)\n",
    "\n",
    "sequence_length = 16\n",
    "num_days = int(train_x.shape[0] / sequence_length)\n",
    "feature_size = train_x.shape[1]\n",
    "train_x = train_x.reshape(num_days, sequence_length, feature_size)\n",
    "train_y = train_y.reshape(num_days, sequence_length, 1)\n",
    "train_x, test_x, train_y, test_y = train_test_split(train_x,\n",
    "                                                    train_y,\n",
    "                                                    test_size=0.1,\n",
    "                                                    shuffle=True)\n",
    "\n",
    "train_x = train_x.reshape(-1, train_x.shape[2])\n",
    "train_y = train_y.reshape(-1)\n",
    "\n",
    "test_x = test_x.reshape(-1, test_x.shape[2])\n",
    "test_y = test_y.reshape(-1)"
   ]
  },
  {
   "cell_type": "markdown",
   "id": "0c0b59df-be09-45e1-8483-6416194613e4",
   "metadata": {},
   "source": [
    "# Set Free Parameters"
   ]
  },
  {
   "cell_type": "code",
   "execution_count": 3,
   "id": "602070e9-c806-4244-af92-2f7e055af31e",
   "metadata": {},
   "outputs": [],
   "source": [
    "max_depth = 10\n",
    "n_estimators = 50\n",
    "min_samples_split = 5\n",
    "gamma = 'auto'"
   ]
  },
  {
   "cell_type": "markdown",
   "id": "6ed01196-81be-42a8-9bc7-3c64f3199762",
   "metadata": {},
   "source": [
    "\n",
    "# Instantiate Model, Criterion, Optimizer"
   ]
  },
  {
   "cell_type": "code",
   "execution_count": 4,
   "id": "ba9f539d-32e5-43f4-bcad-c04782facca7",
   "metadata": {},
   "outputs": [],
   "source": [
    "rf = RandomForestClassifier(max_depth=max_depth, n_estimators=n_estimators,\n",
    "                            min_samples_split=min_samples_split)\n",
    "\n",
    "linear_svm = make_pipeline(StandardScaler(),\n",
    "                           SVC(gamma=gamma, kernel='linear'))\n",
    "\n",
    "rbf_svm = make_pipeline(StandardScaler(),\n",
    "                        SVC(gamma=gamma, kernel='rbf'))"
   ]
  },
  {
   "cell_type": "markdown",
   "id": "cb0fab1a-1768-49e2-be45-6e5abfa62296",
   "metadata": {},
   "source": [
    "# Training"
   ]
  },
  {
   "cell_type": "code",
   "execution_count": 5,
   "id": "e03573db-9770-481a-ac8a-c0023b711224",
   "metadata": {},
   "outputs": [
    {
     "data": {
      "text/plain": [
       "Pipeline(steps=[('standardscaler', StandardScaler()),\n",
       "                ('svc', SVC(gamma='auto'))])"
      ]
     },
     "execution_count": 5,
     "metadata": {},
     "output_type": "execute_result"
    }
   ],
   "source": [
    "rf.fit(train_x, train_y)\n",
    "\n",
    "linear_svm.fit(train_x, train_y)\n",
    "\n",
    "rbf_svm.fit(train_x, train_y)"
   ]
  },
  {
   "cell_type": "markdown",
   "id": "4248eab2-5ada-477d-926c-3dadae20ac52",
   "metadata": {},
   "source": [
    "# Accuracy"
   ]
  },
  {
   "cell_type": "code",
   "execution_count": 6,
   "id": "3351a28d-3cc5-4712-bc61-2725d41881ef",
   "metadata": {},
   "outputs": [
    {
     "name": "stdout",
     "output_type": "stream",
     "text": [
      "              precision    recall  f1-score   support\n",
      "\n",
      "           0       0.97      0.80      0.88        89\n",
      "           1       0.79      0.97      0.87        71\n",
      "\n",
      "    accuracy                           0.88       160\n",
      "   macro avg       0.88      0.88      0.87       160\n",
      "weighted avg       0.89      0.88      0.88       160\n",
      "\n",
      "Random Forest Accuracy: 0.875\n"
     ]
    }
   ],
   "source": [
    "pred_y = rf.predict(test_x)\n",
    "acc = sum(pred_y == test_y) / int(test_y.shape[0])\n",
    "\n",
    "print(classification_report(test_y, pred_y))\n",
    "print(f\"Random Forest Accuracy: {acc}\")"
   ]
  },
  {
   "cell_type": "code",
   "execution_count": 7,
   "id": "30f190d2-1edd-4844-b64a-e45dce8772cf",
   "metadata": {},
   "outputs": [
    {
     "name": "stdout",
     "output_type": "stream",
     "text": [
      "              precision    recall  f1-score   support\n",
      "\n",
      "           0       0.95      0.78      0.85        89\n",
      "           1       0.77      0.94      0.85        71\n",
      "\n",
      "    accuracy                           0.85       160\n",
      "   macro avg       0.86      0.86      0.85       160\n",
      "weighted avg       0.87      0.85      0.85       160\n",
      "\n",
      "Linear Support Vector Machine Accuracy: 0.85\n"
     ]
    }
   ],
   "source": [
    "pred_y = linear_svm.predict(test_x)\n",
    "acc = sum(pred_y == test_y) / int(test_y.shape[0])\n",
    "\n",
    "print(classification_report(test_y, pred_y))\n",
    "print(f\"Linear Support Vector Machine Accuracy: {acc}\")"
   ]
  },
  {
   "cell_type": "code",
   "execution_count": 8,
   "id": "9f580f2c-aa12-4bd7-8ef8-47aed71b61f5",
   "metadata": {},
   "outputs": [
    {
     "name": "stdout",
     "output_type": "stream",
     "text": [
      "              precision    recall  f1-score   support\n",
      "\n",
      "           0       0.97      0.82      0.89        89\n",
      "           1       0.81      0.97      0.88        71\n",
      "\n",
      "    accuracy                           0.89       160\n",
      "   macro avg       0.89      0.90      0.89       160\n",
      "weighted avg       0.90      0.89      0.89       160\n",
      "\n",
      "RBF Support Vector Machine Accuracy: 0.8875\n"
     ]
    }
   ],
   "source": [
    "pred_y = rbf_svm.predict(test_x)\n",
    "acc = sum(pred_y == test_y) / int(test_y.shape[0])\n",
    "\n",
    "print(classification_report(test_y, pred_y))\n",
    "print(f\"RBF Support Vector Machine Accuracy: {acc}\")"
   ]
  }
 ],
 "metadata": {
  "kernelspec": {
   "display_name": "Python 3 (ipykernel)",
   "language": "python",
   "name": "python3"
  },
  "language_info": {
   "codemirror_mode": {
    "name": "ipython",
    "version": 3
   },
   "file_extension": ".py",
   "mimetype": "text/x-python",
   "name": "python",
   "nbconvert_exporter": "python",
   "pygments_lexer": "ipython3",
   "version": "3.8.8"
  }
 },
 "nbformat": 4,
 "nbformat_minor": 5
}
